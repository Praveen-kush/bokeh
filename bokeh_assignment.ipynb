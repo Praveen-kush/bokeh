{
 "cells": [
  {
   "cell_type": "markdown",
   "id": "4e33f029",
   "metadata": {},
   "source": [
    "Q1. How can you create a Bokeh plot using Python code?"
   ]
  },
  {
   "cell_type": "markdown",
   "id": "3735474a",
   "metadata": {},
   "source": [
    "Ans:"
   ]
  },
  {
   "cell_type": "code",
   "execution_count": 3,
   "id": "08f537b7",
   "metadata": {},
   "outputs": [
    {
     "data": {
      "text/html": [
       "<div class=\"bk-root\">\n",
       "        <a href=\"https://bokeh.org\" target=\"_blank\" class=\"bk-logo bk-logo-small bk-logo-notebook\"></a>\n",
       "        <span id=\"1102\">Loading BokehJS ...</span>\n",
       "    </div>\n"
      ]
     },
     "metadata": {},
     "output_type": "display_data"
    },
    {
     "data": {
      "application/javascript": [
       "(function(root) {\n",
       "  function now() {\n",
       "    return new Date();\n",
       "  }\n",
       "\n",
       "  const force = true;\n",
       "\n",
       "  if (typeof root._bokeh_onload_callbacks === \"undefined\" || force === true) {\n",
       "    root._bokeh_onload_callbacks = [];\n",
       "    root._bokeh_is_loading = undefined;\n",
       "  }\n",
       "\n",
       "const JS_MIME_TYPE = 'application/javascript';\n",
       "  const HTML_MIME_TYPE = 'text/html';\n",
       "  const EXEC_MIME_TYPE = 'application/vnd.bokehjs_exec.v0+json';\n",
       "  const CLASS_NAME = 'output_bokeh rendered_html';\n",
       "\n",
       "  /**\n",
       "   * Render data to the DOM node\n",
       "   */\n",
       "  function render(props, node) {\n",
       "    const script = document.createElement(\"script\");\n",
       "    node.appendChild(script);\n",
       "  }\n",
       "\n",
       "  /**\n",
       "   * Handle when an output is cleared or removed\n",
       "   */\n",
       "  function handleClearOutput(event, handle) {\n",
       "    const cell = handle.cell;\n",
       "\n",
       "    const id = cell.output_area._bokeh_element_id;\n",
       "    const server_id = cell.output_area._bokeh_server_id;\n",
       "    // Clean up Bokeh references\n",
       "    if (id != null && id in Bokeh.index) {\n",
       "      Bokeh.index[id].model.document.clear();\n",
       "      delete Bokeh.index[id];\n",
       "    }\n",
       "\n",
       "    if (server_id !== undefined) {\n",
       "      // Clean up Bokeh references\n",
       "      const cmd_clean = \"from bokeh.io.state import curstate; print(curstate().uuid_to_server['\" + server_id + \"'].get_sessions()[0].document.roots[0]._id)\";\n",
       "      cell.notebook.kernel.execute(cmd_clean, {\n",
       "        iopub: {\n",
       "          output: function(msg) {\n",
       "            const id = msg.content.text.trim();\n",
       "            if (id in Bokeh.index) {\n",
       "              Bokeh.index[id].model.document.clear();\n",
       "              delete Bokeh.index[id];\n",
       "            }\n",
       "          }\n",
       "        }\n",
       "      });\n",
       "      // Destroy server and session\n",
       "      const cmd_destroy = \"import bokeh.io.notebook as ion; ion.destroy_server('\" + server_id + \"')\";\n",
       "      cell.notebook.kernel.execute(cmd_destroy);\n",
       "    }\n",
       "  }\n",
       "\n",
       "  /**\n",
       "   * Handle when a new output is added\n",
       "   */\n",
       "  function handleAddOutput(event, handle) {\n",
       "    const output_area = handle.output_area;\n",
       "    const output = handle.output;\n",
       "\n",
       "    // limit handleAddOutput to display_data with EXEC_MIME_TYPE content only\n",
       "    if ((output.output_type != \"display_data\") || (!Object.prototype.hasOwnProperty.call(output.data, EXEC_MIME_TYPE))) {\n",
       "      return\n",
       "    }\n",
       "\n",
       "    const toinsert = output_area.element.find(\".\" + CLASS_NAME.split(' ')[0]);\n",
       "\n",
       "    if (output.metadata[EXEC_MIME_TYPE][\"id\"] !== undefined) {\n",
       "      toinsert[toinsert.length - 1].firstChild.textContent = output.data[JS_MIME_TYPE];\n",
       "      // store reference to embed id on output_area\n",
       "      output_area._bokeh_element_id = output.metadata[EXEC_MIME_TYPE][\"id\"];\n",
       "    }\n",
       "    if (output.metadata[EXEC_MIME_TYPE][\"server_id\"] !== undefined) {\n",
       "      const bk_div = document.createElement(\"div\");\n",
       "      bk_div.innerHTML = output.data[HTML_MIME_TYPE];\n",
       "      const script_attrs = bk_div.children[0].attributes;\n",
       "      for (let i = 0; i < script_attrs.length; i++) {\n",
       "        toinsert[toinsert.length - 1].firstChild.setAttribute(script_attrs[i].name, script_attrs[i].value);\n",
       "        toinsert[toinsert.length - 1].firstChild.textContent = bk_div.children[0].textContent\n",
       "      }\n",
       "      // store reference to server id on output_area\n",
       "      output_area._bokeh_server_id = output.metadata[EXEC_MIME_TYPE][\"server_id\"];\n",
       "    }\n",
       "  }\n",
       "\n",
       "  function register_renderer(events, OutputArea) {\n",
       "\n",
       "    function append_mime(data, metadata, element) {\n",
       "      // create a DOM node to render to\n",
       "      const toinsert = this.create_output_subarea(\n",
       "        metadata,\n",
       "        CLASS_NAME,\n",
       "        EXEC_MIME_TYPE\n",
       "      );\n",
       "      this.keyboard_manager.register_events(toinsert);\n",
       "      // Render to node\n",
       "      const props = {data: data, metadata: metadata[EXEC_MIME_TYPE]};\n",
       "      render(props, toinsert[toinsert.length - 1]);\n",
       "      element.append(toinsert);\n",
       "      return toinsert\n",
       "    }\n",
       "\n",
       "    /* Handle when an output is cleared or removed */\n",
       "    events.on('clear_output.CodeCell', handleClearOutput);\n",
       "    events.on('delete.Cell', handleClearOutput);\n",
       "\n",
       "    /* Handle when a new output is added */\n",
       "    events.on('output_added.OutputArea', handleAddOutput);\n",
       "\n",
       "    /**\n",
       "     * Register the mime type and append_mime function with output_area\n",
       "     */\n",
       "    OutputArea.prototype.register_mime_type(EXEC_MIME_TYPE, append_mime, {\n",
       "      /* Is output safe? */\n",
       "      safe: true,\n",
       "      /* Index of renderer in `output_area.display_order` */\n",
       "      index: 0\n",
       "    });\n",
       "  }\n",
       "\n",
       "  // register the mime type if in Jupyter Notebook environment and previously unregistered\n",
       "  if (root.Jupyter !== undefined) {\n",
       "    const events = require('base/js/events');\n",
       "    const OutputArea = require('notebook/js/outputarea').OutputArea;\n",
       "\n",
       "    if (OutputArea.prototype.mime_types().indexOf(EXEC_MIME_TYPE) == -1) {\n",
       "      register_renderer(events, OutputArea);\n",
       "    }\n",
       "  }\n",
       "  if (typeof (root._bokeh_timeout) === \"undefined\" || force === true) {\n",
       "    root._bokeh_timeout = Date.now() + 5000;\n",
       "    root._bokeh_failed_load = false;\n",
       "  }\n",
       "\n",
       "  const NB_LOAD_WARNING = {'data': {'text/html':\n",
       "     \"<div style='background-color: #fdd'>\\n\"+\n",
       "     \"<p>\\n\"+\n",
       "     \"BokehJS does not appear to have successfully loaded. If loading BokehJS from CDN, this \\n\"+\n",
       "     \"may be due to a slow or bad network connection. Possible fixes:\\n\"+\n",
       "     \"</p>\\n\"+\n",
       "     \"<ul>\\n\"+\n",
       "     \"<li>re-rerun `output_notebook()` to attempt to load from CDN again, or</li>\\n\"+\n",
       "     \"<li>use INLINE resources instead, as so:</li>\\n\"+\n",
       "     \"</ul>\\n\"+\n",
       "     \"<code>\\n\"+\n",
       "     \"from bokeh.resources import INLINE\\n\"+\n",
       "     \"output_notebook(resources=INLINE)\\n\"+\n",
       "     \"</code>\\n\"+\n",
       "     \"</div>\"}};\n",
       "\n",
       "  function display_loaded() {\n",
       "    const el = document.getElementById(\"1102\");\n",
       "    if (el != null) {\n",
       "      el.textContent = \"BokehJS is loading...\";\n",
       "    }\n",
       "    if (root.Bokeh !== undefined) {\n",
       "      if (el != null) {\n",
       "        el.textContent = \"BokehJS \" + root.Bokeh.version + \" successfully loaded.\";\n",
       "      }\n",
       "    } else if (Date.now() < root._bokeh_timeout) {\n",
       "      setTimeout(display_loaded, 100)\n",
       "    }\n",
       "  }\n",
       "\n",
       "  function run_callbacks() {\n",
       "    try {\n",
       "      root._bokeh_onload_callbacks.forEach(function(callback) {\n",
       "        if (callback != null)\n",
       "          callback();\n",
       "      });\n",
       "    } finally {\n",
       "      delete root._bokeh_onload_callbacks\n",
       "    }\n",
       "    console.debug(\"Bokeh: all callbacks have finished\");\n",
       "  }\n",
       "\n",
       "  function load_libs(css_urls, js_urls, callback) {\n",
       "    if (css_urls == null) css_urls = [];\n",
       "    if (js_urls == null) js_urls = [];\n",
       "\n",
       "    root._bokeh_onload_callbacks.push(callback);\n",
       "    if (root._bokeh_is_loading > 0) {\n",
       "      console.debug(\"Bokeh: BokehJS is being loaded, scheduling callback at\", now());\n",
       "      return null;\n",
       "    }\n",
       "    if (js_urls == null || js_urls.length === 0) {\n",
       "      run_callbacks();\n",
       "      return null;\n",
       "    }\n",
       "    console.debug(\"Bokeh: BokehJS not loaded, scheduling load and callback at\", now());\n",
       "    root._bokeh_is_loading = css_urls.length + js_urls.length;\n",
       "\n",
       "    function on_load() {\n",
       "      root._bokeh_is_loading--;\n",
       "      if (root._bokeh_is_loading === 0) {\n",
       "        console.debug(\"Bokeh: all BokehJS libraries/stylesheets loaded\");\n",
       "        run_callbacks()\n",
       "      }\n",
       "    }\n",
       "\n",
       "    function on_error(url) {\n",
       "      console.error(\"failed to load \" + url);\n",
       "    }\n",
       "\n",
       "    for (let i = 0; i < css_urls.length; i++) {\n",
       "      const url = css_urls[i];\n",
       "      const element = document.createElement(\"link\");\n",
       "      element.onload = on_load;\n",
       "      element.onerror = on_error.bind(null, url);\n",
       "      element.rel = \"stylesheet\";\n",
       "      element.type = \"text/css\";\n",
       "      element.href = url;\n",
       "      console.debug(\"Bokeh: injecting link tag for BokehJS stylesheet: \", url);\n",
       "      document.body.appendChild(element);\n",
       "    }\n",
       "\n",
       "    for (let i = 0; i < js_urls.length; i++) {\n",
       "      const url = js_urls[i];\n",
       "      const element = document.createElement('script');\n",
       "      element.onload = on_load;\n",
       "      element.onerror = on_error.bind(null, url);\n",
       "      element.async = false;\n",
       "      element.src = url;\n",
       "      console.debug(\"Bokeh: injecting script tag for BokehJS library: \", url);\n",
       "      document.head.appendChild(element);\n",
       "    }\n",
       "  };\n",
       "\n",
       "  function inject_raw_css(css) {\n",
       "    const element = document.createElement(\"style\");\n",
       "    element.appendChild(document.createTextNode(css));\n",
       "    document.body.appendChild(element);\n",
       "  }\n",
       "\n",
       "  const js_urls = [\"https://cdn.bokeh.org/bokeh/release/bokeh-2.4.3.min.js\", \"https://cdn.bokeh.org/bokeh/release/bokeh-gl-2.4.3.min.js\", \"https://cdn.bokeh.org/bokeh/release/bokeh-widgets-2.4.3.min.js\", \"https://cdn.bokeh.org/bokeh/release/bokeh-tables-2.4.3.min.js\", \"https://cdn.bokeh.org/bokeh/release/bokeh-mathjax-2.4.3.min.js\"];\n",
       "  const css_urls = [];\n",
       "\n",
       "  const inline_js = [    function(Bokeh) {\n",
       "      Bokeh.set_log_level(\"info\");\n",
       "    },\n",
       "function(Bokeh) {\n",
       "    }\n",
       "  ];\n",
       "\n",
       "  function run_inline_js() {\n",
       "    if (root.Bokeh !== undefined || force === true) {\n",
       "          for (let i = 0; i < inline_js.length; i++) {\n",
       "      inline_js[i].call(root, root.Bokeh);\n",
       "    }\n",
       "if (force === true) {\n",
       "        display_loaded();\n",
       "      }} else if (Date.now() < root._bokeh_timeout) {\n",
       "      setTimeout(run_inline_js, 100);\n",
       "    } else if (!root._bokeh_failed_load) {\n",
       "      console.log(\"Bokeh: BokehJS failed to load within specified timeout.\");\n",
       "      root._bokeh_failed_load = true;\n",
       "    } else if (force !== true) {\n",
       "      const cell = $(document.getElementById(\"1102\")).parents('.cell').data().cell;\n",
       "      cell.output_area.append_execute_result(NB_LOAD_WARNING)\n",
       "    }\n",
       "  }\n",
       "\n",
       "  if (root._bokeh_is_loading === 0) {\n",
       "    console.debug(\"Bokeh: BokehJS loaded, going straight to plotting\");\n",
       "    run_inline_js();\n",
       "  } else {\n",
       "    load_libs(css_urls, js_urls, function() {\n",
       "      console.debug(\"Bokeh: BokehJS plotting callback run at\", now());\n",
       "      run_inline_js();\n",
       "    });\n",
       "  }\n",
       "}(window));"
      ],
      "application/vnd.bokehjs_load.v0+json": "(function(root) {\n  function now() {\n    return new Date();\n  }\n\n  const force = true;\n\n  if (typeof root._bokeh_onload_callbacks === \"undefined\" || force === true) {\n    root._bokeh_onload_callbacks = [];\n    root._bokeh_is_loading = undefined;\n  }\n\n\n  if (typeof (root._bokeh_timeout) === \"undefined\" || force === true) {\n    root._bokeh_timeout = Date.now() + 5000;\n    root._bokeh_failed_load = false;\n  }\n\n  const NB_LOAD_WARNING = {'data': {'text/html':\n     \"<div style='background-color: #fdd'>\\n\"+\n     \"<p>\\n\"+\n     \"BokehJS does not appear to have successfully loaded. If loading BokehJS from CDN, this \\n\"+\n     \"may be due to a slow or bad network connection. Possible fixes:\\n\"+\n     \"</p>\\n\"+\n     \"<ul>\\n\"+\n     \"<li>re-rerun `output_notebook()` to attempt to load from CDN again, or</li>\\n\"+\n     \"<li>use INLINE resources instead, as so:</li>\\n\"+\n     \"</ul>\\n\"+\n     \"<code>\\n\"+\n     \"from bokeh.resources import INLINE\\n\"+\n     \"output_notebook(resources=INLINE)\\n\"+\n     \"</code>\\n\"+\n     \"</div>\"}};\n\n  function display_loaded() {\n    const el = document.getElementById(\"1102\");\n    if (el != null) {\n      el.textContent = \"BokehJS is loading...\";\n    }\n    if (root.Bokeh !== undefined) {\n      if (el != null) {\n        el.textContent = \"BokehJS \" + root.Bokeh.version + \" successfully loaded.\";\n      }\n    } else if (Date.now() < root._bokeh_timeout) {\n      setTimeout(display_loaded, 100)\n    }\n  }\n\n  function run_callbacks() {\n    try {\n      root._bokeh_onload_callbacks.forEach(function(callback) {\n        if (callback != null)\n          callback();\n      });\n    } finally {\n      delete root._bokeh_onload_callbacks\n    }\n    console.debug(\"Bokeh: all callbacks have finished\");\n  }\n\n  function load_libs(css_urls, js_urls, callback) {\n    if (css_urls == null) css_urls = [];\n    if (js_urls == null) js_urls = [];\n\n    root._bokeh_onload_callbacks.push(callback);\n    if (root._bokeh_is_loading > 0) {\n      console.debug(\"Bokeh: BokehJS is being loaded, scheduling callback at\", now());\n      return null;\n    }\n    if (js_urls == null || js_urls.length === 0) {\n      run_callbacks();\n      return null;\n    }\n    console.debug(\"Bokeh: BokehJS not loaded, scheduling load and callback at\", now());\n    root._bokeh_is_loading = css_urls.length + js_urls.length;\n\n    function on_load() {\n      root._bokeh_is_loading--;\n      if (root._bokeh_is_loading === 0) {\n        console.debug(\"Bokeh: all BokehJS libraries/stylesheets loaded\");\n        run_callbacks()\n      }\n    }\n\n    function on_error(url) {\n      console.error(\"failed to load \" + url);\n    }\n\n    for (let i = 0; i < css_urls.length; i++) {\n      const url = css_urls[i];\n      const element = document.createElement(\"link\");\n      element.onload = on_load;\n      element.onerror = on_error.bind(null, url);\n      element.rel = \"stylesheet\";\n      element.type = \"text/css\";\n      element.href = url;\n      console.debug(\"Bokeh: injecting link tag for BokehJS stylesheet: \", url);\n      document.body.appendChild(element);\n    }\n\n    for (let i = 0; i < js_urls.length; i++) {\n      const url = js_urls[i];\n      const element = document.createElement('script');\n      element.onload = on_load;\n      element.onerror = on_error.bind(null, url);\n      element.async = false;\n      element.src = url;\n      console.debug(\"Bokeh: injecting script tag for BokehJS library: \", url);\n      document.head.appendChild(element);\n    }\n  };\n\n  function inject_raw_css(css) {\n    const element = document.createElement(\"style\");\n    element.appendChild(document.createTextNode(css));\n    document.body.appendChild(element);\n  }\n\n  const js_urls = [\"https://cdn.bokeh.org/bokeh/release/bokeh-2.4.3.min.js\", \"https://cdn.bokeh.org/bokeh/release/bokeh-gl-2.4.3.min.js\", \"https://cdn.bokeh.org/bokeh/release/bokeh-widgets-2.4.3.min.js\", \"https://cdn.bokeh.org/bokeh/release/bokeh-tables-2.4.3.min.js\", \"https://cdn.bokeh.org/bokeh/release/bokeh-mathjax-2.4.3.min.js\"];\n  const css_urls = [];\n\n  const inline_js = [    function(Bokeh) {\n      Bokeh.set_log_level(\"info\");\n    },\nfunction(Bokeh) {\n    }\n  ];\n\n  function run_inline_js() {\n    if (root.Bokeh !== undefined || force === true) {\n          for (let i = 0; i < inline_js.length; i++) {\n      inline_js[i].call(root, root.Bokeh);\n    }\nif (force === true) {\n        display_loaded();\n      }} else if (Date.now() < root._bokeh_timeout) {\n      setTimeout(run_inline_js, 100);\n    } else if (!root._bokeh_failed_load) {\n      console.log(\"Bokeh: BokehJS failed to load within specified timeout.\");\n      root._bokeh_failed_load = true;\n    } else if (force !== true) {\n      const cell = $(document.getElementById(\"1102\")).parents('.cell').data().cell;\n      cell.output_area.append_execute_result(NB_LOAD_WARNING)\n    }\n  }\n\n  if (root._bokeh_is_loading === 0) {\n    console.debug(\"Bokeh: BokehJS loaded, going straight to plotting\");\n    run_inline_js();\n  } else {\n    load_libs(css_urls, js_urls, function() {\n      console.debug(\"Bokeh: BokehJS plotting callback run at\", now());\n      run_inline_js();\n    });\n  }\n}(window));"
     },
     "metadata": {},
     "output_type": "display_data"
    },
    {
     "data": {
      "text/html": [
       "\n",
       "  <div class=\"bk-root\" id=\"5828d68d-cc6e-4193-b4d9-ba02280fe359\" data-root-id=\"1103\"></div>\n"
      ]
     },
     "metadata": {},
     "output_type": "display_data"
    },
    {
     "data": {
      "application/javascript": [
       "(function(root) {\n",
       "  function embed_document(root) {\n",
       "  const docs_json = {\"93168ac2-769c-4fab-a3c6-9e580ace390b\":{\"defs\":[],\"roots\":{\"references\":[{\"attributes\":{\"below\":[{\"id\":\"1114\"}],\"center\":[{\"id\":\"1117\"},{\"id\":\"1121\"}],\"left\":[{\"id\":\"1118\"}],\"renderers\":[{\"id\":\"1140\"}],\"title\":{\"id\":\"1104\"},\"toolbar\":{\"id\":\"1129\"},\"x_range\":{\"id\":\"1106\"},\"x_scale\":{\"id\":\"1110\"},\"y_range\":{\"id\":\"1108\"},\"y_scale\":{\"id\":\"1112\"}},\"id\":\"1103\",\"subtype\":\"Figure\",\"type\":\"Plot\"},{\"attributes\":{},\"id\":\"1115\",\"type\":\"BasicTicker\"},{\"attributes\":{\"axis\":{\"id\":\"1114\"},\"coordinates\":null,\"group\":null,\"ticker\":null},\"id\":\"1117\",\"type\":\"Grid\"},{\"attributes\":{},\"id\":\"1108\",\"type\":\"DataRange1d\"},{\"attributes\":{},\"id\":\"1157\",\"type\":\"BasicTickFormatter\"},{\"attributes\":{\"overlay\":{\"id\":\"1128\"}},\"id\":\"1124\",\"type\":\"BoxZoomTool\"},{\"attributes\":{},\"id\":\"1119\",\"type\":\"BasicTicker\"},{\"attributes\":{},\"id\":\"1122\",\"type\":\"PanTool\"},{\"attributes\":{\"fill_alpha\":{\"value\":0.1},\"fill_color\":{\"value\":\"#1f77b4\"},\"hatch_alpha\":{\"value\":0.1},\"line_alpha\":{\"value\":0.1},\"line_color\":{\"value\":\"#1f77b4\"},\"x\":{\"field\":\"x\"},\"y\":{\"field\":\"y\"}},\"id\":\"1138\",\"type\":\"Scatter\"},{\"attributes\":{\"coordinates\":null,\"group\":null,\"text\":\"Scatter Plot for Age and Fare in Titanic Dataset\"},\"id\":\"1104\",\"type\":\"Title\"},{\"attributes\":{},\"id\":\"1110\",\"type\":\"LinearScale\"},{\"attributes\":{},\"id\":\"1112\",\"type\":\"LinearScale\"},{\"attributes\":{},\"id\":\"1106\",\"type\":\"DataRange1d\"},{\"attributes\":{\"axis_label\":\"Fare\",\"coordinates\":null,\"formatter\":{\"id\":\"1154\"},\"group\":null,\"major_label_policy\":{\"id\":\"1155\"},\"ticker\":{\"id\":\"1119\"}},\"id\":\"1118\",\"type\":\"LinearAxis\"},{\"attributes\":{\"source\":{\"id\":\"1136\"}},\"id\":\"1141\",\"type\":\"CDSView\"},{\"attributes\":{\"data\":{\"x\":{\"__ndarray__\":\"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\",\"dtype\":\"float64\",\"order\":\"little\",\"shape\":[891]},\"y\":{\"__ndarray__\":\"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\",\"dtype\":\"float64\",\"order\":\"little\",\"shape\":[891]}},\"selected\":{\"id\":\"1160\"},\"selection_policy\":{\"id\":\"1159\"}},\"id\":\"1136\",\"type\":\"ColumnDataSource\"},{\"attributes\":{\"fill_color\":{\"value\":\"#1f77b4\"},\"line_color\":{\"value\":\"#1f77b4\"},\"x\":{\"field\":\"x\"},\"y\":{\"field\":\"y\"}},\"id\":\"1137\",\"type\":\"Scatter\"},{\"attributes\":{},\"id\":\"1159\",\"type\":\"UnionRenderers\"},{\"attributes\":{},\"id\":\"1158\",\"type\":\"AllLabels\"},{\"attributes\":{},\"id\":\"1154\",\"type\":\"BasicTickFormatter\"},{\"attributes\":{\"fill_alpha\":{\"value\":0.2},\"fill_color\":{\"value\":\"#1f77b4\"},\"hatch_alpha\":{\"value\":0.2},\"line_alpha\":{\"value\":0.2},\"line_color\":{\"value\":\"#1f77b4\"},\"x\":{\"field\":\"x\"},\"y\":{\"field\":\"y\"}},\"id\":\"1139\",\"type\":\"Scatter\"},{\"attributes\":{\"tools\":[{\"id\":\"1122\"},{\"id\":\"1123\"},{\"id\":\"1124\"},{\"id\":\"1125\"},{\"id\":\"1126\"},{\"id\":\"1127\"}]},\"id\":\"1129\",\"type\":\"Toolbar\"},{\"attributes\":{},\"id\":\"1127\",\"type\":\"HelpTool\"},{\"attributes\":{},\"id\":\"1126\",\"type\":\"ResetTool\"},{\"attributes\":{},\"id\":\"1160\",\"type\":\"Selection\"},{\"attributes\":{},\"id\":\"1155\",\"type\":\"AllLabels\"},{\"attributes\":{},\"id\":\"1123\",\"type\":\"WheelZoomTool\"},{\"attributes\":{\"bottom_units\":\"screen\",\"coordinates\":null,\"fill_alpha\":0.5,\"fill_color\":\"lightgrey\",\"group\":null,\"left_units\":\"screen\",\"level\":\"overlay\",\"line_alpha\":1.0,\"line_color\":\"black\",\"line_dash\":[4,4],\"line_width\":2,\"right_units\":\"screen\",\"syncable\":false,\"top_units\":\"screen\"},\"id\":\"1128\",\"type\":\"BoxAnnotation\"},{\"attributes\":{\"axis_label\":\"Age\",\"coordinates\":null,\"formatter\":{\"id\":\"1157\"},\"group\":null,\"major_label_policy\":{\"id\":\"1158\"},\"ticker\":{\"id\":\"1115\"}},\"id\":\"1114\",\"type\":\"LinearAxis\"},{\"attributes\":{\"axis\":{\"id\":\"1118\"},\"coordinates\":null,\"dimension\":1,\"group\":null,\"ticker\":null},\"id\":\"1121\",\"type\":\"Grid\"},{\"attributes\":{\"coordinates\":null,\"data_source\":{\"id\":\"1136\"},\"glyph\":{\"id\":\"1137\"},\"group\":null,\"hover_glyph\":null,\"muted_glyph\":{\"id\":\"1139\"},\"nonselection_glyph\":{\"id\":\"1138\"},\"view\":{\"id\":\"1141\"}},\"id\":\"1140\",\"type\":\"GlyphRenderer\"},{\"attributes\":{},\"id\":\"1125\",\"type\":\"SaveTool\"}],\"root_ids\":[\"1103\"]},\"title\":\"Bokeh Application\",\"version\":\"2.4.3\"}};\n",
       "  const render_items = [{\"docid\":\"93168ac2-769c-4fab-a3c6-9e580ace390b\",\"root_ids\":[\"1103\"],\"roots\":{\"1103\":\"5828d68d-cc6e-4193-b4d9-ba02280fe359\"}}];\n",
       "  root.Bokeh.embed.embed_items_notebook(docs_json, render_items);\n",
       "  }\n",
       "  if (root.Bokeh !== undefined) {\n",
       "    embed_document(root);\n",
       "  } else {\n",
       "    let attempts = 0;\n",
       "    const timer = setInterval(function(root) {\n",
       "      if (root.Bokeh !== undefined) {\n",
       "        clearInterval(timer);\n",
       "        embed_document(root);\n",
       "      } else {\n",
       "        attempts++;\n",
       "        if (attempts > 100) {\n",
       "          clearInterval(timer);\n",
       "          console.log(\"Bokeh: ERROR: Unable to run BokehJS code because BokehJS library is missing\");\n",
       "        }\n",
       "      }\n",
       "    }, 10, root)\n",
       "  }\n",
       "})(window);"
      ],
      "application/vnd.bokehjs_exec.v0+json": ""
     },
     "metadata": {
      "application/vnd.bokehjs_exec.v0+json": {
       "id": "1103"
      }
     },
     "output_type": "display_data"
    }
   ],
   "source": [
    "import seaborn as sns\n",
    "from bokeh.plotting import figure, show\n",
    "from bokeh.io import output_notebook\n",
    "\n",
    "# Load the Titanic dataset using the load_dataset function of seaborn\n",
    "titanic_data = sns.load_dataset(\"titanic\")\n",
    "\n",
    "# Set up the Bokeh figure\n",
    "output_notebook()\n",
    "fig = figure(title=\"Scatter Plot for Age and Fare in Titanic Dataset\",\n",
    "             x_axis_label=\"Age\",\n",
    "             y_axis_label=\"Fare\")\n",
    "\n",
    "# Add the scatter plot to the figure\n",
    "fig.scatter(titanic_data[\"age\"], titanic_data[\"fare\"])\n",
    "\n",
    "# Show the plot\n",
    "show(fig)"
   ]
  },
  {
   "cell_type": "raw",
   "id": "0b9d1877",
   "metadata": {},
   "source": [
    "Q2. What are glyphs in Bokeh, and how can you add them to a Bokeh plot? Explain with an example."
   ]
  },
  {
   "cell_type": "markdown",
   "id": "cf0f1ffe",
   "metadata": {},
   "source": [
    "Ans:"
   ]
  },
  {
   "cell_type": "markdown",
   "id": "0322e73e",
   "metadata": {},
   "source": [
    "Glyphs in Bokeh are visual representations of data. They can be added to a Bokeh plot to display data points, lines, shapes, and other visual elements. Some common glyphs in Bokeh include circles, squares, lines, and polygons.\n",
    "\n"
   ]
  },
  {
   "cell_type": "code",
   "execution_count": 5,
   "id": "909e22a4",
   "metadata": {},
   "outputs": [
    {
     "data": {
      "text/html": [
       "\n",
       "  <div class=\"bk-root\" id=\"a8293168-9238-4160-8892-90ecbaa23b3e\" data-root-id=\"1212\"></div>\n"
      ]
     },
     "metadata": {},
     "output_type": "display_data"
    },
    {
     "data": {
      "application/javascript": [
       "(function(root) {\n",
       "  function embed_document(root) {\n",
       "  const docs_json = {\"5b606b3c-2d58-46e9-bf6e-1b533d951a6d\":{\"defs\":[],\"roots\":{\"references\":[{\"attributes\":{\"below\":[{\"id\":\"1221\"}],\"center\":[{\"id\":\"1224\"},{\"id\":\"1228\"}],\"height\":400,\"left\":[{\"id\":\"1225\"}],\"renderers\":[{\"id\":\"1247\"}],\"title\":{\"id\":\"1269\"},\"toolbar\":{\"id\":\"1236\"},\"width\":400,\"x_range\":{\"id\":\"1213\"},\"x_scale\":{\"id\":\"1217\"},\"y_range\":{\"id\":\"1215\"},\"y_scale\":{\"id\":\"1219\"}},\"id\":\"1212\",\"subtype\":\"Figure\",\"type\":\"Plot\"},{\"attributes\":{},\"id\":\"1213\",\"type\":\"DataRange1d\"},{\"attributes\":{},\"id\":\"1278\",\"type\":\"Selection\"},{\"attributes\":{},\"id\":\"1233\",\"type\":\"ResetTool\"},{\"attributes\":{\"tools\":[{\"id\":\"1229\"},{\"id\":\"1230\"},{\"id\":\"1231\"},{\"id\":\"1232\"},{\"id\":\"1233\"},{\"id\":\"1234\"}]},\"id\":\"1236\",\"type\":\"Toolbar\"},{\"attributes\":{\"fill_alpha\":{\"value\":0.1},\"fill_color\":{\"value\":\"navy\"},\"hatch_alpha\":{\"value\":0.1},\"hatch_color\":{\"value\":\"navy\"},\"line_alpha\":{\"value\":0.1},\"line_color\":{\"value\":\"navy\"},\"size\":{\"value\":20},\"x\":{\"field\":\"x\"},\"y\":{\"field\":\"y\"}},\"id\":\"1245\",\"type\":\"Circle\"},{\"attributes\":{\"coordinates\":null,\"group\":null},\"id\":\"1269\",\"type\":\"Title\"},{\"attributes\":{\"overlay\":{\"id\":\"1235\"}},\"id\":\"1231\",\"type\":\"BoxZoomTool\"},{\"attributes\":{},\"id\":\"1229\",\"type\":\"PanTool\"},{\"attributes\":{},\"id\":\"1230\",\"type\":\"WheelZoomTool\"},{\"attributes\":{},\"id\":\"1276\",\"type\":\"AllLabels\"},{\"attributes\":{\"axis\":{\"id\":\"1221\"},\"coordinates\":null,\"group\":null,\"ticker\":null},\"id\":\"1224\",\"type\":\"Grid\"},{\"attributes\":{},\"id\":\"1219\",\"type\":\"LinearScale\"},{\"attributes\":{},\"id\":\"1234\",\"type\":\"HelpTool\"},{\"attributes\":{\"coordinates\":null,\"data_source\":{\"id\":\"1243\"},\"glyph\":{\"id\":\"1244\"},\"group\":null,\"hover_glyph\":null,\"muted_glyph\":{\"id\":\"1246\"},\"nonselection_glyph\":{\"id\":\"1245\"},\"view\":{\"id\":\"1248\"}},\"id\":\"1247\",\"type\":\"GlyphRenderer\"},{\"attributes\":{\"fill_alpha\":{\"value\":0.5},\"fill_color\":{\"value\":\"navy\"},\"hatch_alpha\":{\"value\":0.5},\"hatch_color\":{\"value\":\"navy\"},\"line_alpha\":{\"value\":0.5},\"line_color\":{\"value\":\"navy\"},\"size\":{\"value\":20},\"x\":{\"field\":\"x\"},\"y\":{\"field\":\"y\"}},\"id\":\"1244\",\"type\":\"Circle\"},{\"attributes\":{},\"id\":\"1226\",\"type\":\"BasicTicker\"},{\"attributes\":{\"source\":{\"id\":\"1243\"}},\"id\":\"1248\",\"type\":\"CDSView\"},{\"attributes\":{\"coordinates\":null,\"formatter\":{\"id\":\"1275\"},\"group\":null,\"major_label_policy\":{\"id\":\"1276\"},\"ticker\":{\"id\":\"1222\"}},\"id\":\"1221\",\"type\":\"LinearAxis\"},{\"attributes\":{},\"id\":\"1222\",\"type\":\"BasicTicker\"},{\"attributes\":{},\"id\":\"1232\",\"type\":\"SaveTool\"},{\"attributes\":{},\"id\":\"1275\",\"type\":\"BasicTickFormatter\"},{\"attributes\":{\"fill_alpha\":{\"value\":0.2},\"fill_color\":{\"value\":\"navy\"},\"hatch_alpha\":{\"value\":0.2},\"hatch_color\":{\"value\":\"navy\"},\"line_alpha\":{\"value\":0.2},\"line_color\":{\"value\":\"navy\"},\"size\":{\"value\":20},\"x\":{\"field\":\"x\"},\"y\":{\"field\":\"y\"}},\"id\":\"1246\",\"type\":\"Circle\"},{\"attributes\":{\"axis\":{\"id\":\"1225\"},\"coordinates\":null,\"dimension\":1,\"group\":null,\"ticker\":null},\"id\":\"1228\",\"type\":\"Grid\"},{\"attributes\":{\"coordinates\":null,\"formatter\":{\"id\":\"1272\"},\"group\":null,\"major_label_policy\":{\"id\":\"1273\"},\"ticker\":{\"id\":\"1226\"}},\"id\":\"1225\",\"type\":\"LinearAxis\"},{\"attributes\":{},\"id\":\"1273\",\"type\":\"AllLabels\"},{\"attributes\":{\"bottom_units\":\"screen\",\"coordinates\":null,\"fill_alpha\":0.5,\"fill_color\":\"lightgrey\",\"group\":null,\"left_units\":\"screen\",\"level\":\"overlay\",\"line_alpha\":1.0,\"line_color\":\"black\",\"line_dash\":[4,4],\"line_width\":2,\"right_units\":\"screen\",\"syncable\":false,\"top_units\":\"screen\"},\"id\":\"1235\",\"type\":\"BoxAnnotation\"},{\"attributes\":{},\"id\":\"1277\",\"type\":\"UnionRenderers\"},{\"attributes\":{},\"id\":\"1217\",\"type\":\"LinearScale\"},{\"attributes\":{},\"id\":\"1215\",\"type\":\"DataRange1d\"},{\"attributes\":{},\"id\":\"1272\",\"type\":\"BasicTickFormatter\"},{\"attributes\":{\"data\":{\"x\":[1,2,3,4,5],\"y\":[6,7,2,4,5]},\"selected\":{\"id\":\"1278\"},\"selection_policy\":{\"id\":\"1277\"}},\"id\":\"1243\",\"type\":\"ColumnDataSource\"}],\"root_ids\":[\"1212\"]},\"title\":\"Bokeh Application\",\"version\":\"2.4.3\"}};\n",
       "  const render_items = [{\"docid\":\"5b606b3c-2d58-46e9-bf6e-1b533d951a6d\",\"root_ids\":[\"1212\"],\"roots\":{\"1212\":\"a8293168-9238-4160-8892-90ecbaa23b3e\"}}];\n",
       "  root.Bokeh.embed.embed_items_notebook(docs_json, render_items);\n",
       "  }\n",
       "  if (root.Bokeh !== undefined) {\n",
       "    embed_document(root);\n",
       "  } else {\n",
       "    let attempts = 0;\n",
       "    const timer = setInterval(function(root) {\n",
       "      if (root.Bokeh !== undefined) {\n",
       "        clearInterval(timer);\n",
       "        embed_document(root);\n",
       "      } else {\n",
       "        attempts++;\n",
       "        if (attempts > 100) {\n",
       "          clearInterval(timer);\n",
       "          console.log(\"Bokeh: ERROR: Unable to run BokehJS code because BokehJS library is missing\");\n",
       "        }\n",
       "      }\n",
       "    }, 10, root)\n",
       "  }\n",
       "})(window);"
      ],
      "application/vnd.bokehjs_exec.v0+json": ""
     },
     "metadata": {
      "application/vnd.bokehjs_exec.v0+json": {
       "id": "1212"
      }
     },
     "output_type": "display_data"
    }
   ],
   "source": [
    "from bokeh.plotting import figure, output_file, show\n",
    "output_file(\"circle.html\")\n",
    "p = figure(width=400, height=400)\n",
    "p.circle([1, 2, 3, 4, 5], [6, 7, 2, 4, 5], size=20, color=\"navy\", alpha=0.5)\n",
    "show(p)"
   ]
  },
  {
   "cell_type": "markdown",
   "id": "674ed04d",
   "metadata": {},
   "source": [
    "Bokeh provides a variety of scatter markers, including circle, square, asterisk, cross, diamond, hex, and more. You can find a complete list of available scatter markers and their corresponding glyph methods in the Bokeh documentation.\n",
    "\n",
    "In addition to scatter markers, Bokeh also provides methods for adding lines, polygons, and other visual elements to a plot. You can find more information about these methods and how to use them in the Bokeh documentation."
   ]
  },
  {
   "cell_type": "code",
   "execution_count": 6,
   "id": "f7205d68",
   "metadata": {},
   "outputs": [
    {
     "data": {
      "text/html": [
       "\n",
       "  <div class=\"bk-root\" id=\"8901b210-ac05-4fb8-bfe2-abc3f86cf5c4\" data-root-id=\"1490\"></div>\n"
      ]
     },
     "metadata": {},
     "output_type": "display_data"
    },
    {
     "data": {
      "application/javascript": [
       "(function(root) {\n",
       "  function embed_document(root) {\n",
       "  const docs_json = {\"7dbfb392-129f-4adb-bf11-c988444c4eb5\":{\"defs\":[],\"roots\":{\"references\":[{\"attributes\":{\"below\":[{\"id\":\"1499\"}],\"center\":[{\"id\":\"1502\"},{\"id\":\"1506\"}],\"height\":400,\"left\":[{\"id\":\"1503\"}],\"renderers\":[{\"id\":\"1525\"}],\"title\":{\"id\":\"1558\"},\"toolbar\":{\"id\":\"1514\"},\"width\":400,\"x_range\":{\"id\":\"1491\"},\"x_scale\":{\"id\":\"1495\"},\"y_range\":{\"id\":\"1493\"},\"y_scale\":{\"id\":\"1497\"}},\"id\":\"1490\",\"subtype\":\"Figure\",\"type\":\"Plot\"},{\"attributes\":{},\"id\":\"1564\",\"type\":\"BasicTickFormatter\"},{\"attributes\":{},\"id\":\"1512\",\"type\":\"HelpTool\"},{\"attributes\":{},\"id\":\"1565\",\"type\":\"AllLabels\"},{\"attributes\":{},\"id\":\"1510\",\"type\":\"SaveTool\"},{\"attributes\":{},\"id\":\"1511\",\"type\":\"ResetTool\"},{\"attributes\":{},\"id\":\"1566\",\"type\":\"UnionRenderers\"},{\"attributes\":{},\"id\":\"1497\",\"type\":\"LinearScale\"},{\"attributes\":{},\"id\":\"1567\",\"type\":\"Selection\"},{\"attributes\":{},\"id\":\"1495\",\"type\":\"LinearScale\"},{\"attributes\":{\"bottom_units\":\"screen\",\"coordinates\":null,\"fill_alpha\":0.5,\"fill_color\":\"lightgrey\",\"group\":null,\"left_units\":\"screen\",\"level\":\"overlay\",\"line_alpha\":1.0,\"line_color\":\"black\",\"line_dash\":[4,4],\"line_width\":2,\"right_units\":\"screen\",\"syncable\":false,\"top_units\":\"screen\"},\"id\":\"1513\",\"type\":\"BoxAnnotation\"},{\"attributes\":{\"overlay\":{\"id\":\"1513\"}},\"id\":\"1509\",\"type\":\"BoxZoomTool\"},{\"attributes\":{\"coordinates\":null,\"data_source\":{\"id\":\"1521\"},\"glyph\":{\"id\":\"1522\"},\"group\":null,\"hover_glyph\":null,\"muted_glyph\":{\"id\":\"1524\"},\"nonselection_glyph\":{\"id\":\"1523\"},\"view\":{\"id\":\"1526\"}},\"id\":\"1525\",\"type\":\"GlyphRenderer\"},{\"attributes\":{\"data\":{\"x\":[1,2,3,4,5],\"y\":[6,7,2,4,5]},\"selected\":{\"id\":\"1567\"},\"selection_policy\":{\"id\":\"1566\"}},\"id\":\"1521\",\"type\":\"ColumnDataSource\"},{\"attributes\":{\"coordinates\":null,\"group\":null},\"id\":\"1558\",\"type\":\"Title\"},{\"attributes\":{\"fill_alpha\":{\"value\":0.2},\"fill_color\":{\"value\":\"olive\"},\"hatch_alpha\":{\"value\":0.2},\"hatch_color\":{\"value\":\"olive\"},\"line_alpha\":{\"value\":0.2},\"line_color\":{\"value\":\"olive\"},\"marker\":{\"value\":\"square\"},\"size\":{\"value\":20},\"x\":{\"field\":\"x\"},\"y\":{\"field\":\"y\"}},\"id\":\"1524\",\"type\":\"Scatter\"},{\"attributes\":{\"axis\":{\"id\":\"1503\"},\"coordinates\":null,\"dimension\":1,\"group\":null,\"ticker\":null},\"id\":\"1506\",\"type\":\"Grid\"},{\"attributes\":{},\"id\":\"1562\",\"type\":\"AllLabels\"},{\"attributes\":{\"tools\":[{\"id\":\"1507\"},{\"id\":\"1508\"},{\"id\":\"1509\"},{\"id\":\"1510\"},{\"id\":\"1511\"},{\"id\":\"1512\"}]},\"id\":\"1514\",\"type\":\"Toolbar\"},{\"attributes\":{\"axis\":{\"id\":\"1499\"},\"coordinates\":null,\"group\":null,\"ticker\":null},\"id\":\"1502\",\"type\":\"Grid\"},{\"attributes\":{},\"id\":\"1504\",\"type\":\"BasicTicker\"},{\"attributes\":{},\"id\":\"1508\",\"type\":\"WheelZoomTool\"},{\"attributes\":{},\"id\":\"1500\",\"type\":\"BasicTicker\"},{\"attributes\":{},\"id\":\"1507\",\"type\":\"PanTool\"},{\"attributes\":{\"source\":{\"id\":\"1521\"}},\"id\":\"1526\",\"type\":\"CDSView\"},{\"attributes\":{\"coordinates\":null,\"formatter\":{\"id\":\"1564\"},\"group\":null,\"major_label_policy\":{\"id\":\"1565\"},\"ticker\":{\"id\":\"1500\"}},\"id\":\"1499\",\"type\":\"LinearAxis\"},{\"attributes\":{},\"id\":\"1561\",\"type\":\"BasicTickFormatter\"},{\"attributes\":{\"fill_alpha\":{\"value\":0.1},\"fill_color\":{\"value\":\"olive\"},\"hatch_alpha\":{\"value\":0.1},\"hatch_color\":{\"value\":\"olive\"},\"line_alpha\":{\"value\":0.1},\"line_color\":{\"value\":\"olive\"},\"marker\":{\"value\":\"square\"},\"size\":{\"value\":20},\"x\":{\"field\":\"x\"},\"y\":{\"field\":\"y\"}},\"id\":\"1523\",\"type\":\"Scatter\"},{\"attributes\":{},\"id\":\"1493\",\"type\":\"DataRange1d\"},{\"attributes\":{},\"id\":\"1491\",\"type\":\"DataRange1d\"},{\"attributes\":{\"fill_alpha\":{\"value\":0.5},\"fill_color\":{\"value\":\"olive\"},\"hatch_alpha\":{\"value\":0.5},\"hatch_color\":{\"value\":\"olive\"},\"line_alpha\":{\"value\":0.5},\"line_color\":{\"value\":\"olive\"},\"marker\":{\"value\":\"square\"},\"size\":{\"value\":20},\"x\":{\"field\":\"x\"},\"y\":{\"field\":\"y\"}},\"id\":\"1522\",\"type\":\"Scatter\"},{\"attributes\":{\"coordinates\":null,\"formatter\":{\"id\":\"1561\"},\"group\":null,\"major_label_policy\":{\"id\":\"1562\"},\"ticker\":{\"id\":\"1504\"}},\"id\":\"1503\",\"type\":\"LinearAxis\"}],\"root_ids\":[\"1490\"]},\"title\":\"Bokeh Application\",\"version\":\"2.4.3\"}};\n",
       "  const render_items = [{\"docid\":\"7dbfb392-129f-4adb-bf11-c988444c4eb5\",\"root_ids\":[\"1490\"],\"roots\":{\"1490\":\"8901b210-ac05-4fb8-bfe2-abc3f86cf5c4\"}}];\n",
       "  root.Bokeh.embed.embed_items_notebook(docs_json, render_items);\n",
       "  }\n",
       "  if (root.Bokeh !== undefined) {\n",
       "    embed_document(root);\n",
       "  } else {\n",
       "    let attempts = 0;\n",
       "    const timer = setInterval(function(root) {\n",
       "      if (root.Bokeh !== undefined) {\n",
       "        clearInterval(timer);\n",
       "        embed_document(root);\n",
       "      } else {\n",
       "        attempts++;\n",
       "        if (attempts > 100) {\n",
       "          clearInterval(timer);\n",
       "          console.log(\"Bokeh: ERROR: Unable to run BokehJS code because BokehJS library is missing\");\n",
       "        }\n",
       "      }\n",
       "    }, 10, root)\n",
       "  }\n",
       "})(window);"
      ],
      "application/vnd.bokehjs_exec.v0+json": ""
     },
     "metadata": {
      "application/vnd.bokehjs_exec.v0+json": {
       "id": "1490"
      }
     },
     "output_type": "display_data"
    }
   ],
   "source": [
    "from bokeh.plotting import figure, output_file, show\n",
    "output_file(\"square.html\")\n",
    "p = figure(width=400, height=400)\n",
    "p.square([1, 2, 3, 4, 5], [6, 7, 2, 4, 5], size=20, color=\"olive\", alpha=0.5)\n",
    "show(p)"
   ]
  },
  {
   "cell_type": "raw",
   "id": "a9648f45",
   "metadata": {},
   "source": [
    "Q3. How can you customize the appearance of a Bokeh plot, including the axes, title, and legend?"
   ]
  },
  {
   "cell_type": "code",
   "execution_count": 9,
   "id": "ea6a6557",
   "metadata": {},
   "outputs": [
    {
     "data": {
      "text/html": [
       "\n",
       "  <div class=\"bk-root\" id=\"7fb10a7b-5fa7-427f-8505-1e2ee4086702\" data-root-id=\"1830\"></div>\n"
      ]
     },
     "metadata": {},
     "output_type": "display_data"
    },
    {
     "data": {
      "application/javascript": [
       "(function(root) {\n",
       "  function embed_document(root) {\n",
       "  const docs_json = {\"6560d967-aad1-4ec6-901e-d9d6329b91b3\":{\"defs\":[],\"roots\":{\"references\":[{\"attributes\":{\"below\":[{\"id\":\"1841\"}],\"center\":[{\"id\":\"1844\"},{\"id\":\"1848\"},{\"id\":\"1879\"}],\"left\":[{\"id\":\"1845\"}],\"renderers\":[{\"id\":\"1867\"}],\"title\":{\"id\":\"1831\"},\"toolbar\":{\"id\":\"1856\"},\"x_range\":{\"id\":\"1833\"},\"x_scale\":{\"id\":\"1837\"},\"y_range\":{\"id\":\"1835\"},\"y_scale\":{\"id\":\"1839\"}},\"id\":\"1830\",\"subtype\":\"Figure\",\"type\":\"Plot\"},{\"attributes\":{\"label\":{\"value\":\"Line\"},\"renderers\":[{\"id\":\"1867\"}]},\"id\":\"1880\",\"type\":\"LegendItem\"},{\"attributes\":{\"source\":{\"id\":\"1863\"}},\"id\":\"1868\",\"type\":\"CDSView\"},{\"attributes\":{},\"id\":\"1846\",\"type\":\"BasicTicker\"},{\"attributes\":{\"coordinates\":null,\"data_source\":{\"id\":\"1863\"},\"glyph\":{\"id\":\"1864\"},\"group\":null,\"hover_glyph\":null,\"muted_glyph\":{\"id\":\"1866\"},\"nonselection_glyph\":{\"id\":\"1865\"},\"view\":{\"id\":\"1868\"}},\"id\":\"1867\",\"type\":\"GlyphRenderer\"},{\"attributes\":{\"line_color\":\"#1f77b4\",\"line_width\":2,\"x\":{\"field\":\"x\"},\"y\":{\"field\":\"y\"}},\"id\":\"1864\",\"type\":\"Line\"},{\"attributes\":{},\"id\":\"1842\",\"type\":\"BasicTicker\"},{\"attributes\":{\"data\":{\"x\":[1,2,3,4,5],\"y\":[6,7,2,4,5]},\"selected\":{\"id\":\"1877\"},\"selection_policy\":{\"id\":\"1876\"}},\"id\":\"1863\",\"type\":\"ColumnDataSource\"},{\"attributes\":{\"coordinates\":null,\"group\":null,\"items\":[{\"id\":\"1880\"}]},\"id\":\"1879\",\"type\":\"Legend\"},{\"attributes\":{\"axis_label\":\"y\",\"coordinates\":null,\"formatter\":{\"id\":\"1871\"},\"group\":null,\"major_label_policy\":{\"id\":\"1872\"},\"ticker\":{\"id\":\"1846\"}},\"id\":\"1845\",\"type\":\"LinearAxis\"},{\"attributes\":{},\"id\":\"1852\",\"type\":\"SaveTool\"},{\"attributes\":{},\"id\":\"1835\",\"type\":\"DataRange1d\"},{\"attributes\":{\"axis\":{\"id\":\"1845\"},\"coordinates\":null,\"dimension\":1,\"group\":null,\"ticker\":null},\"id\":\"1848\",\"type\":\"Grid\"},{\"attributes\":{},\"id\":\"1877\",\"type\":\"Selection\"},{\"attributes\":{},\"id\":\"1875\",\"type\":\"AllLabels\"},{\"attributes\":{},\"id\":\"1837\",\"type\":\"LinearScale\"},{\"attributes\":{\"axis\":{\"id\":\"1841\"},\"coordinates\":null,\"group\":null,\"ticker\":null},\"id\":\"1844\",\"type\":\"Grid\"},{\"attributes\":{},\"id\":\"1874\",\"type\":\"BasicTickFormatter\"},{\"attributes\":{},\"id\":\"1839\",\"type\":\"LinearScale\"},{\"attributes\":{},\"id\":\"1849\",\"type\":\"PanTool\"},{\"attributes\":{},\"id\":\"1854\",\"type\":\"HelpTool\"},{\"attributes\":{\"bottom_units\":\"screen\",\"coordinates\":null,\"fill_alpha\":0.5,\"fill_color\":\"lightgrey\",\"group\":null,\"left_units\":\"screen\",\"level\":\"overlay\",\"line_alpha\":1.0,\"line_color\":\"black\",\"line_dash\":[4,4],\"line_width\":2,\"right_units\":\"screen\",\"syncable\":false,\"top_units\":\"screen\"},\"id\":\"1855\",\"type\":\"BoxAnnotation\"},{\"attributes\":{\"tools\":[{\"id\":\"1849\"},{\"id\":\"1850\"},{\"id\":\"1851\"},{\"id\":\"1852\"},{\"id\":\"1853\"},{\"id\":\"1854\"}]},\"id\":\"1856\",\"type\":\"Toolbar\"},{\"attributes\":{\"coordinates\":null,\"group\":null,\"text\":\"Simple Line Plot\"},\"id\":\"1831\",\"type\":\"Title\"},{\"attributes\":{\"axis_label\":\"x\",\"coordinates\":null,\"formatter\":{\"id\":\"1874\"},\"group\":null,\"major_label_policy\":{\"id\":\"1875\"},\"ticker\":{\"id\":\"1842\"}},\"id\":\"1841\",\"type\":\"LinearAxis\"},{\"attributes\":{},\"id\":\"1876\",\"type\":\"UnionRenderers\"},{\"attributes\":{},\"id\":\"1871\",\"type\":\"BasicTickFormatter\"},{\"attributes\":{\"overlay\":{\"id\":\"1855\"}},\"id\":\"1851\",\"type\":\"BoxZoomTool\"},{\"attributes\":{},\"id\":\"1833\",\"type\":\"DataRange1d\"},{\"attributes\":{},\"id\":\"1872\",\"type\":\"AllLabels\"},{\"attributes\":{\"line_alpha\":0.2,\"line_color\":\"#1f77b4\",\"line_width\":2,\"x\":{\"field\":\"x\"},\"y\":{\"field\":\"y\"}},\"id\":\"1866\",\"type\":\"Line\"},{\"attributes\":{},\"id\":\"1853\",\"type\":\"ResetTool\"},{\"attributes\":{\"line_alpha\":0.1,\"line_color\":\"#1f77b4\",\"line_width\":2,\"x\":{\"field\":\"x\"},\"y\":{\"field\":\"y\"}},\"id\":\"1865\",\"type\":\"Line\"},{\"attributes\":{},\"id\":\"1850\",\"type\":\"WheelZoomTool\"}],\"root_ids\":[\"1830\"]},\"title\":\"Bokeh Application\",\"version\":\"2.4.3\"}};\n",
       "  const render_items = [{\"docid\":\"6560d967-aad1-4ec6-901e-d9d6329b91b3\",\"root_ids\":[\"1830\"],\"roots\":{\"1830\":\"7fb10a7b-5fa7-427f-8505-1e2ee4086702\"}}];\n",
       "  root.Bokeh.embed.embed_items_notebook(docs_json, render_items);\n",
       "  }\n",
       "  if (root.Bokeh !== undefined) {\n",
       "    embed_document(root);\n",
       "  } else {\n",
       "    let attempts = 0;\n",
       "    const timer = setInterval(function(root) {\n",
       "      if (root.Bokeh !== undefined) {\n",
       "        clearInterval(timer);\n",
       "        embed_document(root);\n",
       "      } else {\n",
       "        attempts++;\n",
       "        if (attempts > 100) {\n",
       "          clearInterval(timer);\n",
       "          console.log(\"Bokeh: ERROR: Unable to run BokehJS code because BokehJS library is missing\");\n",
       "        }\n",
       "      }\n",
       "    }, 10, root)\n",
       "  }\n",
       "})(window);"
      ],
      "application/vnd.bokehjs_exec.v0+json": ""
     },
     "metadata": {
      "application/vnd.bokehjs_exec.v0+json": {
       "id": "1830"
      }
     },
     "output_type": "display_data"
    }
   ],
   "source": [
    "from bokeh.plotting import figure, output_file, show\n",
    "x = [1, 2, 3, 4, 5]\n",
    "y = [6, 7, 2, 4, 5]\n",
    "output_file(\"line.html\")\n",
    "p = figure(title=\"Simple Line Plot\", x_axis_label='x', y_axis_label='y')\n",
    "p.line(x, y, legend_label=\"Line\", line_width=2)\n",
    "show(p)\n"
   ]
  },
  {
   "cell_type": "raw",
   "id": "f6dc25aa",
   "metadata": {},
   "source": [
    "Q4. What is a Bokeh server, and how can you use it to create interactive plots that can be updated in\n",
    "real time?"
   ]
  },
  {
   "cell_type": "markdown",
   "id": "8e3305c4",
   "metadata": {},
   "source": [
    "Ans:"
   ]
  },
  {
   "cell_type": "markdown",
   "id": "bfb7b80d",
   "metadata": {},
   "source": [
    "A Bokeh server is a Python-based server that allows you to create and serve interactive Bokeh plots and applications. With Bokeh server, you can create web applications that update dynamically in response to user interactions or changes in the underlying data. "
   ]
  },
  {
   "cell_type": "code",
   "execution_count": 28,
   "id": "5719098f",
   "metadata": {},
   "outputs": [
    {
     "data": {
      "text/html": [
       "\n",
       "  <div class=\"bk-root\" id=\"f3d27007-c90a-4313-beef-82a912fdd3ef\" data-root-id=\"3730\"></div>\n"
      ]
     },
     "metadata": {},
     "output_type": "display_data"
    },
    {
     "data": {
      "application/javascript": [
       "(function(root) {\n",
       "  function embed_document(root) {\n",
       "  const docs_json = {\"4469703f-32f3-4edb-9538-f2849a17580c\":{\"defs\":[],\"roots\":{\"references\":[{\"attributes\":{\"below\":[{\"id\":\"3741\"}],\"center\":[{\"id\":\"3744\"},{\"id\":\"3748\"}],\"left\":[{\"id\":\"3745\"}],\"renderers\":[{\"id\":\"3767\"}],\"title\":{\"id\":\"3731\"},\"toolbar\":{\"id\":\"3756\"},\"x_range\":{\"id\":\"3733\"},\"x_scale\":{\"id\":\"3737\"},\"y_range\":{\"id\":\"3735\"},\"y_scale\":{\"id\":\"3739\"}},\"id\":\"3730\",\"subtype\":\"Figure\",\"type\":\"Plot\"},{\"attributes\":{},\"id\":\"3746\",\"type\":\"BasicTicker\"},{\"attributes\":{\"axis_label\":\"Age\",\"coordinates\":null,\"formatter\":{\"id\":\"3908\"},\"group\":null,\"major_label_policy\":{\"id\":\"3909\"},\"ticker\":{\"id\":\"3742\"}},\"id\":\"3741\",\"type\":\"LinearAxis\"},{\"attributes\":{},\"id\":\"3911\",\"type\":\"Selection\"},{\"attributes\":{\"axis\":{\"id\":\"3745\"},\"coordinates\":null,\"dimension\":1,\"group\":null,\"ticker\":null},\"id\":\"3748\",\"type\":\"Grid\"},{\"attributes\":{\"axis_label\":\"Fare\",\"coordinates\":null,\"formatter\":{\"id\":\"3905\"},\"group\":null,\"major_label_policy\":{\"id\":\"3906\"},\"ticker\":{\"id\":\"3746\"}},\"id\":\"3745\",\"type\":\"LinearAxis\"},{\"attributes\":{\"fill_alpha\":{\"value\":0.2},\"fill_color\":{\"value\":\"blue\"},\"hatch_alpha\":{\"value\":0.2},\"hatch_color\":{\"value\":\"blue\"},\"line_alpha\":{\"value\":0.2},\"line_color\":{\"value\":\"blue\"},\"x\":{\"field\":\"age\"},\"y\":{\"field\":\"fare\"}},\"id\":\"3766\",\"type\":\"Scatter\"},{\"attributes\":{},\"id\":\"3753\",\"type\":\"ResetTool\"},{\"attributes\":{},\"id\":\"3733\",\"type\":\"DataRange1d\"},{\"attributes\":{\"coordinates\":null,\"data_source\":{\"id\":\"3729\"},\"glyph\":{\"id\":\"3764\"},\"group\":null,\"hover_glyph\":null,\"muted_glyph\":{\"id\":\"3766\"},\"nonselection_glyph\":{\"id\":\"3765\"},\"view\":{\"id\":\"3768\"}},\"id\":\"3767\",\"type\":\"GlyphRenderer\"},{\"attributes\":{},\"id\":\"3750\",\"type\":\"WheelZoomTool\"},{\"attributes\":{},\"id\":\"3742\",\"type\":\"BasicTicker\"},{\"attributes\":{},\"id\":\"3752\",\"type\":\"SaveTool\"},{\"attributes\":{\"source\":{\"id\":\"3729\"}},\"id\":\"3768\",\"type\":\"CDSView\"},{\"attributes\":{},\"id\":\"3754\",\"type\":\"HelpTool\"},{\"attributes\":{\"overlay\":{\"id\":\"3755\"}},\"id\":\"3751\",\"type\":\"BoxZoomTool\"},{\"attributes\":{\"axis\":{\"id\":\"3741\"},\"coordinates\":null,\"group\":null,\"ticker\":null},\"id\":\"3744\",\"type\":\"Grid\"},{\"attributes\":{},\"id\":\"3737\",\"type\":\"LinearScale\"},{\"attributes\":{},\"id\":\"3905\",\"type\":\"BasicTickFormatter\"},{\"attributes\":{},\"id\":\"3735\",\"type\":\"DataRange1d\"},{\"attributes\":{\"bottom_units\":\"screen\",\"coordinates\":null,\"fill_alpha\":0.5,\"fill_color\":\"lightgrey\",\"group\":null,\"left_units\":\"screen\",\"level\":\"overlay\",\"line_alpha\":1.0,\"line_color\":\"black\",\"line_dash\":[4,4],\"line_width\":2,\"right_units\":\"screen\",\"syncable\":false,\"top_units\":\"screen\"},\"id\":\"3755\",\"type\":\"BoxAnnotation\"},{\"attributes\":{\"tools\":[{\"id\":\"3749\"},{\"id\":\"3750\"},{\"id\":\"3751\"},{\"id\":\"3752\"},{\"id\":\"3753\"},{\"id\":\"3754\"}]},\"id\":\"3756\",\"type\":\"Toolbar\"},{\"attributes\":{},\"id\":\"3739\",\"type\":\"LinearScale\"},{\"attributes\":{},\"id\":\"3908\",\"type\":\"BasicTickFormatter\"},{\"attributes\":{\"coordinates\":null,\"group\":null,\"text\":\"Titanic Dataset: Age vs Fare\"},\"id\":\"3731\",\"type\":\"Title\"},{\"attributes\":{},\"id\":\"3910\",\"type\":\"UnionRenderers\"},{\"attributes\":{},\"id\":\"3906\",\"type\":\"AllLabels\"},{\"attributes\":{\"fill_alpha\":{\"value\":0.1},\"fill_color\":{\"value\":\"blue\"},\"hatch_alpha\":{\"value\":0.1},\"hatch_color\":{\"value\":\"blue\"},\"line_alpha\":{\"value\":0.1},\"line_color\":{\"value\":\"blue\"},\"x\":{\"field\":\"age\"},\"y\":{\"field\":\"fare\"}},\"id\":\"3765\",\"type\":\"Scatter\"},{\"attributes\":{},\"id\":\"3749\",\"type\":\"PanTool\"},{\"attributes\":{\"fill_color\":{\"value\":\"blue\"},\"hatch_color\":{\"value\":\"blue\"},\"line_color\":{\"value\":\"blue\"},\"x\":{\"field\":\"age\"},\"y\":{\"field\":\"fare\"}},\"id\":\"3764\",\"type\":\"Scatter\"},{\"attributes\":{\"data\":{\"age\":[],\"fare\":[]},\"selected\":{\"id\":\"3911\"},\"selection_policy\":{\"id\":\"3910\"}},\"id\":\"3729\",\"type\":\"ColumnDataSource\"},{\"attributes\":{},\"id\":\"3909\",\"type\":\"AllLabels\"}],\"root_ids\":[\"3730\"]},\"title\":\"Bokeh Application\",\"version\":\"2.4.3\"}};\n",
       "  const render_items = [{\"docid\":\"4469703f-32f3-4edb-9538-f2849a17580c\",\"root_ids\":[\"3730\"],\"roots\":{\"3730\":\"f3d27007-c90a-4313-beef-82a912fdd3ef\"}}];\n",
       "  root.Bokeh.embed.embed_items_notebook(docs_json, render_items);\n",
       "  }\n",
       "  if (root.Bokeh !== undefined) {\n",
       "    embed_document(root);\n",
       "  } else {\n",
       "    let attempts = 0;\n",
       "    const timer = setInterval(function(root) {\n",
       "      if (root.Bokeh !== undefined) {\n",
       "        clearInterval(timer);\n",
       "        embed_document(root);\n",
       "      } else {\n",
       "        attempts++;\n",
       "        if (attempts > 100) {\n",
       "          clearInterval(timer);\n",
       "          console.log(\"Bokeh: ERROR: Unable to run BokehJS code because BokehJS library is missing\");\n",
       "        }\n",
       "      }\n",
       "    }, 10, root)\n",
       "  }\n",
       "})(window);"
      ],
      "application/vnd.bokehjs_exec.v0+json": ""
     },
     "metadata": {
      "application/vnd.bokehjs_exec.v0+json": {
       "id": "3730"
      }
     },
     "output_type": "display_data"
    }
   ],
   "source": [
    "from bokeh.io import curdoc\n",
    "from bokeh.layouts import column\n",
    "from bokeh.models import ColumnDataSource, Slider\n",
    "from bokeh.plotting import figure\n",
    "\n",
    "import pandas as pd\n",
    "titanic_data = sns.load_dataset(\"titanic\")\n",
    "source = ColumnDataSource(data=dict(age=[], fare=[]))\n",
    "p = figure(title=\"Titanic Dataset: Age vs Fare\", x_axis_label=\"Age\", y_axis_label=\"Fare\")\n",
    "p.scatter(x=\"age\", y=\"fare\", source=source, color=\"blue\")\n",
    "age_slider = Slider(start=0, end=titanic_data[\"age\"].max(), value=titanic_data[\"age\"].min(), step=1, title=\"Age\")\n",
    "def update_data(attrname, old, new):\n",
    "    data = dict(age=titanic_data.loc[titanic_data[\"age\"] <= new][\"age\"].values,\n",
    "                fare=titanic_data.loc[titanic_data[\"age\"] <= new][\"fare\"].values)\n",
    "    source.data = data\n",
    "\n",
    "age_slider.on_change('value', update_data)\n",
    "layout = column(age_slider, p)\n",
    "curdoc().add_root(layout)\n",
    "show(p)"
   ]
  },
  {
   "cell_type": "raw",
   "id": "c1aff277",
   "metadata": {},
   "source": [
    "Q5. How can you embed a Bokeh plot into a web page or dashboard using Flask or Django?"
   ]
  },
  {
   "cell_type": "markdown",
   "id": "ed2befb0",
   "metadata": {},
   "source": [
    "Ans:"
   ]
  },
  {
   "cell_type": "code",
   "execution_count": null,
   "id": "29946d75",
   "metadata": {},
   "outputs": [
    {
     "name": "stdout",
     "output_type": "stream",
     "text": [
      " * Serving Flask app \"__main__\" (lazy loading)\n",
      " * Environment: production\n",
      "\u001b[31m   WARNING: This is a development server. Do not use it in a production deployment.\u001b[0m\n",
      "\u001b[2m   Use a production WSGI server instead.\u001b[0m\n",
      " * Debug mode: off\n"
     ]
    },
    {
     "name": "stderr",
     "output_type": "stream",
     "text": [
      " * Running on http://127.0.0.1:5000/ (Press CTRL+C to quit)\n"
     ]
    }
   ],
   "source": [
    "from flask import Flask, render_template_string\n",
    "import json\n",
    "\n",
    "app = Flask(__name__)\n",
    "\n",
    "@app.route(\"/\")\n",
    "def index():\n",
    "    with open(\"plot.json\") as f:\n",
    "        plot = json.load(f)\n",
    "    template = \"\"\"\n",
    "    <!DOCTYPE html>\n",
    "    <html>\n",
    "        <head>\n",
    "            <title>My Bokeh Plot</title>\n",
    "            <script src=\"https://cdn.bokeh.org/bokeh/release/bokeh-2.4.2.min.js\"\n",
    "                integrity=\"sha384-6o/UWd1r+L464O2o/kD8pZcZy/y6c7XeQITjKZsa301vKmBjGxgQQJ2ar/ZzjSWm\"\n",
    "                crossorigin=\"anonymous\"></script>\n",
    "            <script src=\"https://cdn.bokeh.org/bokeh/release/bokeh-gl-2.4.2.min.js\"\n",
    "                integrity=\"sha384-uXy1cOQTq2oPZcWlC/mXLKj8G6tDyYFmGj7y/yNxGYiKYEp6xNcDwfVzlLJCmWnT\"\n",
    "                crossorigin=\"anonymous\"></script>\n",
    "            <script src=\"https://cdn.bokeh.org/bokeh/release/bokeh-widgets-2.4.2.min.js\"\n",
    "                integrity=\"sha384-BaXV38jq6AoWn1KZvV8uD6hWfQwWd6UmQ57yBzZy1/d9xJKJ+jBnWzQChXeAJ7Hm\"\n",
    "                crossorigin=\"anonymous\"></script>\n",
    "            <link rel=\"stylesheet\" href=\"https://cdn.bokeh.org/bokeh/release/bokeh-2.4.2.min.css\"\n",
    "                integrity=\"sha384-t6q/hlE4+/B9v85jZ8U/6jXMhPq/U+/fB4Wjh/V53Z+zcLjXkEZvxvvtK+K/76L+\"\n",
    "                crossorigin=\"anonymous\">\n",
    "        </head>\n",
    "        <body>\n",
    "            <div id=\"plot\"></div>\n",
    "            <script>\n",
    "                Bokeh.load_models({{\"plot\": {{}}});\n",
    "                Bokeh.plotting.figure_from_json({{\"plot\": {}}}, {\"target\": \"plot\"});\n",
    "            </script>\n",
    "        </body>\n",
    "    </html>\n",
    "    \"\"\"\n",
    "    html = template.format(plot=plot)\n",
    "    return html\n",
    "\n",
    "if __name__ == \"__main__\":\n",
    "    app.run()"
   ]
  },
  {
   "cell_type": "code",
   "execution_count": null,
   "id": "4602a590",
   "metadata": {},
   "outputs": [],
   "source": []
  }
 ],
 "metadata": {
  "kernelspec": {
   "display_name": "Python 3 (ipykernel)",
   "language": "python",
   "name": "python3"
  },
  "language_info": {
   "codemirror_mode": {
    "name": "ipython",
    "version": 3
   },
   "file_extension": ".py",
   "mimetype": "text/x-python",
   "name": "python",
   "nbconvert_exporter": "python",
   "pygments_lexer": "ipython3",
   "version": "3.9.13"
  }
 },
 "nbformat": 4,
 "nbformat_minor": 5
}
